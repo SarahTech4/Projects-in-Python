{
 "cells": [
  {
   "cell_type": "markdown",
   "metadata": {},
   "source": [
    "# Aqui colocaremos em prática com mini-projetos em Python! 🐍\n",
    "\n",
    "\n",
    "Em Python, adotar boas práticas é essencial para escrever código legível e eficiente. Organize seu código em módulos claros e coesos, com funções bem definidas para promover a reutilização do código. Utilize classes para encapsular comportamentos relacionados e variáveis significativas, seguindo convenções de nomenclatura. Escolha nomes descritivos para variáveis e valores, e aproveite as bibliotecas padrão e externas sempre que possível para evitar reinventar a roda.\n",
    "\n",
    "• 🔠 **Módulos**\n",
    "• 🐼 **Bibliotecas** \n",
    "• ⚙️ **Funções**\n",
    "• 💻 **Classes** \n",
    "\n",
    "***"
   ]
  },
  {
   "cell_type": "code",
   "execution_count": 1,
   "metadata": {},
   "outputs": [
    {
     "name": "stdout",
     "output_type": "stream",
     "text": [
      "Universidade X\n",
      "João\n",
      "Maria\n"
     ]
    }
   ],
   "source": [
    "# Trabalhando com Programação Orientada a Objetos\n",
    "\n",
    "class Aluno:\n",
    "    def __init__(self, nome):\n",
    "        self.nome = nome\n",
    "\n",
    "class Universidade:\n",
    "    def __init__(self, nome):\n",
    "        self.nome = nome\n",
    "        self.alunos = []\n",
    "\n",
    "    def adicionarAluno(self, aluno):\n",
    "        self.alunos.append(aluno)\n",
    "\n",
    "universidade = Universidade('Universidade X')\n",
    "aluno1 = Aluno('João')\n",
    "aluno2 = Aluno('Maria')\n",
    "\n",
    "universidade.adicionarAluno(aluno1)\n",
    "universidade.adicionarAluno(aluno2)\n",
    "\n",
    "print(universidade.nome)\n",
    "for aluno in universidade.alunos:\n",
    "    print(aluno.nome)\n"
   ]
  },
  {
   "cell_type": "code",
   "execution_count": null,
   "metadata": {},
   "outputs": [],
   "source": [
    "class Cliente:\n",
    "    def __init__(self, nome, endereco):\n",
    "        self.__nome= nome\n",
    "        self.__endereco=endereco\n",
    "\n",
    "class Conta:\n",
    "    def __init__(self, codigo):\n",
    "        self.__codigo = codigo\n",
    "        self.__transacoes = []\n",
    "        "
   ]
  }
 ],
 "metadata": {
  "kernelspec": {
   "display_name": "Python 3",
   "language": "python",
   "name": "python3"
  },
  "language_info": {
   "codemirror_mode": {
    "name": "ipython",
    "version": 3
   },
   "file_extension": ".py",
   "mimetype": "text/x-python",
   "name": "python",
   "nbconvert_exporter": "python",
   "pygments_lexer": "ipython3",
   "version": "3.11.9"
  }
 },
 "nbformat": 4,
 "nbformat_minor": 2
}
