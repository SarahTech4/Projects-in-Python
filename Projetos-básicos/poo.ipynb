{
 "cells": [
  {
   "cell_type": "markdown",
   "metadata": {},
   "source": [
    "# Aqui colocaremos em prática com mini-projetos em Python! 🐍\n",
    "\n",
    "\n",
    "Em Python, adotar boas práticas é essencial para escrever código legível e eficiente. Organize seu código em módulos claros e coesos, com funções bem definidas para promover a reutilização do código. Utilize classes para encapsular comportamentos relacionados e variáveis significativas, seguindo convenções de nomenclatura. Escolha nomes descritivos para variáveis e valores, e aproveite as bibliotecas padrão e externas sempre que possível para evitar reinventar a roda.\n",
    "\n",
    "• 🔠 **Módulos**\n",
    "• 🐼 **Bibliotecas** \n",
    "• ⚙️ **Funções**\n",
    "• 💻 **Classes** \n",
    "\n",
    "***"
   ]
  },
  {
   "cell_type": "code",
   "execution_count": 1,
   "metadata": {},
   "outputs": [
    {
     "name": "stdout",
     "output_type": "stream",
     "text": [
      "Universidade X\n",
      "João\n",
      "Maria\n"
     ]
    }
   ],
   "source": [
    "# Trabalhando com Programação Orientada a Objetos\n",
    "\n",
    "class Aluno:\n",
    "    def __init__(self, nome):\n",
    "        self.nome = nome\n",
    "\n",
    "class Universidade:\n",
    "    def __init__(self, nome):\n",
    "        self.nome = nome\n",
    "        self.alunos = []\n",
    "\n",
    "    def adicionarAluno(self, aluno):\n",
    "        self.alunos.append(aluno)\n",
    "\n",
    "universidade = Universidade('Universidade X')\n",
    "aluno1 = Aluno('João')\n",
    "aluno2 = Aluno('Maria')\n",
    "\n",
    "universidade.adicionarAluno(aluno1)\n",
    "universidade.adicionarAluno(aluno2)\n",
    "\n",
    "print(universidade.nome)\n",
    "for aluno in universidade.alunos:\n",
    "    print(aluno.nome)\n"
   ]
  },
  {
   "cell_type": "code",
   "execution_count": 6,
   "metadata": {},
   "outputs": [
    {
     "name": "stdout",
     "output_type": "stream",
     "text": [
      "Bolo de Chocolate, e o seu preço é 50 reais.\n",
      "Bolo de Morango, e o seu preço é 50 reais.\n",
      "Bolo de Leite Ninho, e o seu preço é 50 reais.\n",
      "Bolo de Milho, e o seu preço é 50 reais.\n"
     ]
    }
   ],
   "source": [
    "class Bolo:\n",
    "    def __init__(self, nome, preco):\n",
    "        self.nome = nome\n",
    "        self.preco = preco\n",
    "\n",
    "    def mostrar(self):\n",
    "        print(f'Bolo de {self.nome}, e o seu preço é {self.preco} reais.')\n",
    "\n",
    "\n",
    "bolo1 = Bolo('Chocolate', 50)\n",
    "bolo1.mostrar()\n",
    "bolo2 = Bolo('Morango', 50)\n",
    "bolo2.mostrar()\n",
    "bolo3 = Bolo('Leite Ninho', 50)\n",
    "bolo3.mostrar()\n",
    "bolo4 = Bolo('Milho', 50)\n",
    "bolo4.mostrar()"
   ]
  },
  {
   "cell_type": "code",
   "execution_count": 5,
   "metadata": {},
   "outputs": [
    {
     "name": "stdout",
     "output_type": "stream",
     "text": [
      "O sabor do bolo é de Morango, e seu peso é de 2 kg\n"
     ]
    }
   ],
   "source": [
    "bolo1_sabor = 'Morango'\n",
    "bolo1_peso = 2\n",
    "\n",
    "print(f'O sabor do bolo é de {bolo1_sabor}, e seu peso é de {bolo1_peso} kg')\n",
    "\n"
   ]
  },
  {
   "cell_type": "markdown",
   "metadata": {},
   "source": [
    "# Programação Orientada a Objetos - Objetos e Classes"
   ]
  },
  {
   "cell_type": "code",
   "execution_count": 9,
   "metadata": {},
   "outputs": [
    {
     "name": "stdout",
     "output_type": "stream",
     "text": [
      "O produto Chocolate, custa 5 reais\n",
      "O produto Morango, custa 15 reais\n"
     ]
    }
   ],
   "source": [
    "produto_nome = \"Chocolate\"\n",
    "produto_preco = 5\n",
    "\n",
    "print(f'O produto {produto_nome}, custa {produto_preco} reais')\n",
    "\n",
    "produto1_nome = \"Morango\"\n",
    "produto2_preco = 15\n",
    "\n",
    "print(f'O produto {produto1_nome}, custa {produto2_preco} reais')\n",
    "\n"
   ]
  },
  {
   "cell_type": "code",
   "execution_count": 11,
   "metadata": {},
   "outputs": [
    {
     "name": "stdout",
     "output_type": "stream",
     "text": [
      "O Chocolate, custa 5 reais.\n",
      "O Morango, custa 15 reais.\n",
      "O Bolacha, custa 4 reais.\n"
     ]
    }
   ],
   "source": [
    "class Produto:\n",
    "    def __init__(self, nome, preco):\n",
    "        self.nome = nome\n",
    "        self.preco = preco\n",
    "    \n",
    "    def mostrar(self):\n",
    "        print(f\"O {self.nome}, custa {self.preco} reais.\")\n",
    "\n",
    "produto1 = Produto('Chocolate', 5)\n",
    "produto1.mostrar()\n",
    "\n",
    "produto2 = Produto('Morango', 15)\n",
    "produto2.mostrar()\n",
    "\n",
    "produto3 = Produto('Bolacha', 4)\n",
    "produto3.mostrar()\n",
    "\n"
   ]
  },
  {
   "cell_type": "code",
   "execution_count": 12,
   "metadata": {},
   "outputs": [
    {
     "name": "stdout",
     "output_type": "stream",
     "text": [
      "Toyota\n",
      "2019\n",
      "Carro: Toyota Corolla, Ano: 2020\n",
      "Carro: Honda Civic, Ano: 2019\n"
     ]
    }
   ],
   "source": [
    "# Definição da classe Carro\n",
    "class Carro:\n",
    "    def __init__(self, marca, modelo, ano):\n",
    "        self.marca = marca  # Atributo de instância\n",
    "        self.modelo = modelo  # Atributo de instância\n",
    "        self.ano = ano  # Atributo de instância\n",
    "\n",
    "    def exibir_informacoes(self):\n",
    "        print(f\"Carro: {self.marca} {self.modelo}, Ano: {self.ano}\")\n",
    "\n",
    "# Criação de objetos (instâncias da classe Carro)\n",
    "meu_carro = Carro(\"Toyota\", \"Corolla\", 2020)\n",
    "outro_carro = Carro(\"Honda\", \"Civic\", 2019)\n",
    "\n",
    "# Acesso aos atributos e métodos dos objetos\n",
    "print(meu_carro.marca)  \n",
    "print(outro_carro.ano)  \n",
    "\n",
    "meu_carro.exibir_informacoes()  \n",
    "outro_carro.exibir_informacoes() "
   ]
  },
  {
   "cell_type": "code",
   "execution_count": null,
   "metadata": {},
   "outputs": [],
   "source": [
    "# Defina a classe base Funcionario\n",
    "class Funcionario:\n",
    "    def __init__(self, nome, salario_base):\n",
    "        self.nome = nome\n",
    "        self.salario_base = salario_base\n",
    "\n",
    "    def calcular_salario(self):\n",
    "        # Retorne o salário base\n",
    "        # Preencha aqui\n",
    "        pass\n",
    "\n",
    "# Defina a classe Gerente que herda de Funcionario\n",
    "class Gerente(Funcionario):\n",
    "    def __init__(self, nome, salario_base, bonus):\n",
    "        # Chame o construtor da classe pai\n",
    "        # Preencha aqui\n",
    "        self.bonus = bonus\n",
    "\n",
    "    def calcular_salario(self):\n",
    "        # Retorne o salário base mais o bônus\n",
    "        # Preencha aqui\n",
    "        pass\n",
    "\n",
    "# Defina a classe Desenvolvedor que herda de Funcionario\n",
    "class Desenvolvedor(Funcionario):\n",
    "    def __init__(self, nome, salario_base):\n",
    "        # Chame o construtor da classe pai\n",
    "        # Preencha aqui\n",
    "        pass\n",
    "\n",
    "# Crie instâncias de Gerente e Desenvolvedor\n",
    "gerente = Gerente(\"João\", 6000, 1000)\n",
    "desenvolvedor = Desenvolvedor(\"Maria\", 5000)\n",
    "\n",
    "# Demonstre o cálculo do salário para cada funcionário\n",
    "print(f\"Nome: {gerente.nome}, Cargo: Gerente, Salário: {gerente.calcular_salario()}\")\n",
    "print(f\"Nome: {desenvolvedor.nome}, Cargo: Desenvolvedor, Salário: {desenvolvedor.calcular_salario()}\")\n"
   ]
  }
 ],
 "metadata": {
  "kernelspec": {
   "display_name": "Python 3",
   "language": "python",
   "name": "python3"
  },
  "language_info": {
   "codemirror_mode": {
    "name": "ipython",
    "version": 3
   },
   "file_extension": ".py",
   "mimetype": "text/x-python",
   "name": "python",
   "nbconvert_exporter": "python",
   "pygments_lexer": "ipython3",
   "version": "3.11.9"
  }
 },
 "nbformat": 4,
 "nbformat_minor": 2
}
