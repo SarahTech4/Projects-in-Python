{
 "cells": [
  {
   "cell_type": "markdown",
   "metadata": {},
   "source": [
    "# Listas Duplamente Encadeadas 🔒📋\n",
    "A lista duplamente encadeada é formada por nós similares ao da lista encadeada simples, porém com um atributo adicional: um apontador para o nó anterior. Dessa forma, é possível percorrer esse tipo de lista em ambas as direções.\n",
    "\n",
    "![Imagem da Lista](https://encrypted-tbn0.gstatic.com/images?q=tbn:ANd9GcS5nKizztQZvbg1Ehop-sCsAkgE1UInS-4EUV0tEDFWgMElGGLSN3wwrHwkxlIigElUKaE&usqp=CAU)"
   ]
  },
  {
   "cell_type": "code",
   "execution_count": 17,
   "metadata": {},
   "outputs": [
    {
     "name": "stdout",
     "output_type": "stream",
     "text": [
      "\n",
      "Nossa lista duplamente encadeada: \n",
      "0 1 2 3 4 \n",
      "\n",
      "Nossa lista duplamente encadeada após a remoção do 3: \n",
      "0 1 2 4 \n"
     ]
    }
   ],
   "source": [
    "# Implementando a nossa classe Nó\n",
    "class Node:\n",
    "    def __init__(self, data):\n",
    "        self.data = data\n",
    "        self.prev = None \n",
    "        self.next = None \n",
    "\n",
    "class DoublyinkedList:\n",
    "    def __init__(self):\n",
    "        self.head = None\n",
    "        self.trailer = None\n",
    "\n",
    "    def append(self, data):\n",
    "        new_node = Node(data)\n",
    "        if self.head is None:\n",
    "            self.head = new_node\n",
    "        else:\n",
    "            current = self.head\n",
    "            while current.next:\n",
    "                current = current.next\n",
    "            current.next = new_node\n",
    "            new_node.prev = current\n",
    "        \n",
    "    def prepend(self, data):\n",
    "        new_node = Node(data)\n",
    "        if self.head is None:\n",
    "            self.head = new_node\n",
    "        else:\n",
    "            new_node.next =self.head\n",
    "            self.head.prev = new_node\n",
    "            self.head = new_node\n",
    "    \n",
    "    def delete(self, data):\n",
    "        current = self.head\n",
    "        while current:\n",
    "            if current.data == data:\n",
    "                if current.prev:\n",
    "                    current.prev.next = current.next\n",
    "                if current.next:\n",
    "                    current.next.prev = current.prev\n",
    "                if current == self.head:\n",
    "                    self.head = current.next\n",
    "                return\n",
    "            current = current.next\n",
    "            \n",
    "    def mostrar(self):\n",
    "        current = self.head\n",
    "        while current:\n",
    "            print(current.data, end=\" \")\n",
    "            current = current.next\n",
    "        print()\n",
    "\n",
    "\n",
    "listaDuplaEncadeada = DoublyinkedList()\n",
    "listaDuplaEncadeada.append(1)\n",
    "listaDuplaEncadeada.append(2)\n",
    "listaDuplaEncadeada.append(3)\n",
    "listaDuplaEncadeada.append(4)\n",
    "listaDuplaEncadeada.prepend(0)\n",
    "print('\\nNossa lista duplamente encadeada: ')\n",
    "listaDuplaEncadeada.mostrar()\n",
    "\n",
    "print('\\nNossa lista duplamente encadeada após a remoção do 3: ')\n",
    "listaDuplaEncadeada.delete(3)\n",
    "listaDuplaEncadeada.mostrar()"
   ]
  }
 ],
 "metadata": {
  "kernelspec": {
   "display_name": "Python 3",
   "language": "python",
   "name": "python3"
  },
  "language_info": {
   "codemirror_mode": {
    "name": "ipython",
    "version": 3
   },
   "file_extension": ".py",
   "mimetype": "text/x-python",
   "name": "python",
   "nbconvert_exporter": "python",
   "pygments_lexer": "ipython3",
   "version": "3.11.9"
  }
 },
 "nbformat": 4,
 "nbformat_minor": 2
}
