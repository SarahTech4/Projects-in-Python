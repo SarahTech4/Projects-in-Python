{
 "cells": [
  {
   "cell_type": "markdown",
   "metadata": {},
   "source": [
    "# Aqui colocaremos em prática com mini-projetos em Python! 🐍\n",
    "\n",
    "\n",
    "Em Python, adotar boas práticas é essencial para escrever código legível e eficiente. Organize seu código em módulos claros e coesos, com funções bem definidas para promover a reutilização do código. Utilize classes para encapsular comportamentos relacionados e variáveis significativas, seguindo convenções de nomenclatura. Escolha nomes descritivos para variáveis e valores, e aproveite as bibliotecas padrão e externas sempre que possível para evitar reinventar a roda.\n",
    "\n",
    "• 🔠 **Módulos**\n",
    "• 🐼 **Bibliotecas** \n",
    "• ⚙️ **Funções**\n",
    "• 💻 **Classes** \n",
    "\n",
    "***"
   ]
  },
  {
   "cell_type": "markdown",
   "metadata": {},
   "source": [
    "# random - Gera números pseudoaleatórios\n",
    "\n",
    "Este módulo implementa geradores de números pseudoaleatórios para várias distribuições.\n",
    "\n",
    "Para números inteiros, há uma seleção uniforme de um intervalo. Para sequências, há uma seleção uniforme de um elemento aleatório, uma função para gerar uma permutação aleatória de uma lista internamanete e uma função para amostragem aleatória sem substituição.\n",
    "\n",
    "Código fonte [Lib/random.py](https://github.com/python/cpython/tree/3.12/Lib/random.py)\n"
   ]
  },
  {
   "cell_type": "code",
   "execution_count": 11,
   "metadata": {},
   "outputs": [
    {
     "name": "stdout",
     "output_type": "stream",
     "text": [
      "Desculpe, tente novamente! Está muito baixo\n",
      "Desculpe, tente novamente! Está muito baixo\n",
      "Desculpe, tente novamente! Está muito baixo\n",
      "Desculpe, tente novamente! Está muito alto\n",
      "Desculpe, tente novamente! Está muito baixo\n",
      "Desculpe, tente novamente! Está muito baixo\n",
      "Desculpe, tente novamente! Está muito baixo\n",
      "Desculpe, tente novamente! Está muito baixo\n",
      "Desculpe, tente novamente! Está muito baixo\n",
      "Boaa, parabéns. Você conseguiu adivinhar o número secreto 23 correto!!\n"
     ]
    }
   ],
   "source": [
    "# Aqui vamos importar o RANDOM \n",
    "import random  \n",
    "\n",
    "def adivinha(x): \n",
    "\n",
    "# Vamos chamar a função (random), para retornar o elemento 'adivinha' aleatório da sequência não vazia.\n",
    "    randomNumber = random.randint(1, x) \n",
    "    adivinha = 0\n",
    "\n",
    "# Chamamos o While para dar o início do loop de adivinhação\n",
    "    while adivinha != randomNumber:\n",
    "        adivinha = int(input(f'Adivinha um número entre 1 e {x}: '))\n",
    "\n",
    "        # Se o nosso elemento estiver com um valor baixo, retornará a seguinte mensagem:\n",
    "        if adivinha < randomNumber:\n",
    "            print('Desculpe, tente novamente! Está muito baixo')\n",
    "        # Caso o nosso elemento estiver com um valor alto, retornará a seguinte mensagem:\n",
    "        elif adivinha > randomNumber:\n",
    "            print('Desculpe, tente novamente! Está muito alto')\n",
    "\n",
    "# Aqui sairá após conseguir adivinhar o número!\n",
    "    print(f'Boaa, parabéns. Você conseguiu adivinhar o número secreto {randomNumber} correto!!')\n",
    "\n",
    "adivinha(25)"
   ]
  },
  {
   "cell_type": "markdown",
   "metadata": {},
   "source": [
    "# random - Vamos gerar uma lista de números aleatórios\n",
    "\n",
    "Vamos criar um código com a função random, para criar uma lista de números aleatórios, em que no final de sua execução, terá uma identificação de valores maiores e menores de sua lista."
   ]
  },
  {
   "cell_type": "code",
   "execution_count": 21,
   "metadata": {},
   "outputs": [
    {
     "name": "stdout",
     "output_type": "stream",
     "text": [
      "[4, 2, 6, 6, 9, 3, 5, 6, 0, 10, 8, 2, 4, 10, 3, 4, 3, 5, 6, 1]\n"
     ]
    }
   ],
   "source": [
    "#Importar o pacote random\n",
    "from random import randint\n",
    "\n",
    "# Vamos criar uma lista está inicialmente vazia.\n",
    "i = 0\n",
    "lista = []\n",
    "\n",
    "''''\n",
    "Usaremos uma estrutura de repetição for, que vai repetir uma \n",
    "ação de acordo com o que o usuário informar.\n",
    "'''\n",
    "for i in range(20):\n",
    "    numeros = randint(0,10)\n",
    "    lista.append(numeros)\n",
    "print(lista)"
   ]
  },
  {
   "cell_type": "code",
   "execution_count": 23,
   "metadata": {},
   "outputs": [
    {
     "name": "stdout",
     "output_type": "stream",
     "text": [
      "Esse é o número que se mais repete: 6\n",
      "Essa é quantidade de vezes que esse número repete: 4 vezes.\n"
     ]
    }
   ],
   "source": [
    "# Vamos identificar qual foi o número que apareceu mais\n",
    "def maisFrequente(lista):\n",
    "    return max(set(lista), key= lista.count)\n",
    "\n",
    "print(f\"Esse é o número que se mais repete:\",maisFrequente(lista))\n",
    "print(f\"Essa é quantidade de vezes que esse número repete:\", lista.count(6),\"vezes.\")"
   ]
  },
  {
   "cell_type": "code",
   "execution_count": 26,
   "metadata": {},
   "outputs": [
    {
     "name": "stdout",
     "output_type": "stream",
     "text": [
      "Esse é o número que se menos repete: 0\n",
      "Essa é quantidade de vezes que esse número repete: 1 vez.\n"
     ]
    }
   ],
   "source": [
    "# Vamos identificar qual foi o número que apareceu menos\n",
    "def menosFrequente(lista):\n",
    "    return min(set(lista), key= lista.count)\n",
    "\n",
    "print(f\"Esse é o número que se menos repete:\",menosFrequente(lista))\n",
    "print(f\"Essa é quantidade de vezes que esse número repete:\", lista.count(0),\"vez.\")"
   ]
  },
  {
   "cell_type": "markdown",
   "metadata": {},
   "source": [
    "# random - Vamos criar uma lista de nomes para sortear um nome aleatório\n",
    "\n",
    "Vamos usar a função random.choice para retornar um elemento da sequência sorteada.\n"
   ]
  },
  {
   "cell_type": "code",
   "execution_count": 11,
   "metadata": {},
   "outputs": [
    {
     "name": "stdout",
     "output_type": "stream",
     "text": [
      "Lista dos nomes:\n",
      "['Maria', 'João', 'Pedro', 'Sofia', 'Lucas']\n",
      "\n",
      "O primeiro aluno a apresentar será: Lucas.\n"
     ]
    }
   ],
   "source": [
    "import random\n",
    "\n",
    "# Aqui vamos criar a nossa lista vazia de nomes, assim para você digitar os nomes na lista\n",
    "nomes = []\n",
    "nome = input('Digite o nome: ') \n",
    "\n",
    "# Enquanto você digitar \"fim\", vai identificar o fim da lista para iniciar o processo\n",
    "while nome != 'fim':\n",
    "    nomes +=[nome]\n",
    "    nome = input('Digite o nome: ')\n",
    "print(f'Lista dos nomes:')\n",
    "print(nomes)\n",
    "print('') # Só para dar um espaçamento \n",
    "\n",
    "# random.choice irá identificar a sua lista de nomes e irá sortear o nome\n",
    "selecionado = random.choice(nomes)\n",
    "print(f'O primeiro aluno a apresentar será: %s.'%selecionado)"
   ]
  },
  {
   "cell_type": "code",
   "execution_count": 5,
   "metadata": {},
   "outputs": [
    {
     "name": "stdout",
     "output_type": "stream",
     "text": [
      "Que pena... Você errou! :(\n",
      "Que pena... Você errou! :(\n",
      "Que pena... Você errou! :(\n",
      "Os números escolhidos:  6\n"
     ]
    }
   ],
   "source": [
    "import random\n",
    "\n",
    "numeroAleatorio = random.randint(1,10)\n",
    "tentativas = 0\n",
    "\n",
    "while tentativas < 3:\n",
    "    x =int(input('Escolha um número entre 1 e 10: '))\n",
    "    if (x == numeroAleatorio):\n",
    "        print('Parabéns você acertou!')\n",
    "    else:\n",
    "        print('Que pena... Você errou! :(')\n",
    "    tentativas += 1\n",
    "\n",
    "print(f'Os números escolhidos: ', x)\n",
    "print(f'O número aleatório era: ', numeroAleatorio)"
   ]
  }
 ],
 "metadata": {
  "kernelspec": {
   "display_name": "Python 3",
   "language": "python",
   "name": "python3"
  },
  "language_info": {
   "codemirror_mode": {
    "name": "ipython",
    "version": 3
   },
   "file_extension": ".py",
   "mimetype": "text/x-python",
   "name": "python",
   "nbconvert_exporter": "python",
   "pygments_lexer": "ipython3",
   "version": "3.11.8"
  }
 },
 "nbformat": 4,
 "nbformat_minor": 2
}
