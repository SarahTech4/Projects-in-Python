{
 "cells": [
  {
   "cell_type": "markdown",
   "metadata": {},
   "source": [
    "# Aqui colocaremos em prática com mini-projetos em Python! 🐍\n",
    "\n",
    "\n",
    "Em Python, adotar boas práticas é essencial para escrever código legível e eficiente. Organize seu código em módulos claros e coesos, com funções bem definidas para promover a reutilização do código. Utilize classes para encapsular comportamentos relacionados e variáveis significativas, seguindo convenções de nomenclatura. Escolha nomes descritivos para variáveis e valores, e aproveite as bibliotecas padrão e externas sempre que possível para evitar reinventar a roda.\n",
    "\n",
    "• 🔠 **Módulos**\n",
    "• 🐼 **Bibliotecas** \n",
    "• ⚙️ **Funções**\n",
    "• 💻 **Classes** \n",
    "\n",
    "***"
   ]
  },
  {
   "cell_type": "code",
   "execution_count": 12,
   "metadata": {},
   "outputs": [
    {
     "name": "stdout",
     "output_type": "stream",
     "text": [
      "Qual fruta gostaria de consultar?\n",
      "1) Maçãs 🍎\n",
      "2) Laranjas 🍊\n",
      "3) Uvas 🍇\n",
      "\n",
      "Tipos de fruta disponíveis e seus respectivos preços:\n",
      "💲fuji: R$ 1.5\n",
      "💲gala: R$ 2.69\n",
      "💲golden: R$ 3.0\n"
     ]
    }
   ],
   "source": [
    "# Dicionário com os preços das frutas\n",
    "frutaria = {\n",
    "    'maçã': {'fuji': 1.50, 'gala': 2.69, 'golden': 3.00},\n",
    "    'laranja': {'da terra': 1.25, 'cutrale': 2.56, 'tangua': 3.89},\n",
    "    'uva': {'crimson': 1.50, 'vitória': 2.90, 'thompson': 3.78}\n",
    "}\n",
    "\n",
    "# Função para mostrar opções e retornar escolha do usuário\n",
    "def escolher_opcao():\n",
    "    print(\"Qual fruta gostaria de consultar?\")\n",
    "    print(f\"1) Maçãs 🍎\") \n",
    "    print(f\"2) Laranjas 🍊\")\n",
    "    print(f\"3) Uvas 🍇\")\n",
    "    print('')\n",
    "    opcao = int(input(\"Digite o número da opção desejada: \"))\n",
    "    return opcao\n",
    "\n",
    "# Função para mostrar tipos de fruta e preços\n",
    "def mostrar_frutas(opcao):\n",
    "    if opcao == 1:\n",
    "        frutas = frutaria['maçã']\n",
    "    elif opcao == 2:\n",
    "        frutas = frutaria['laranja']\n",
    "    elif opcao == 3:\n",
    "        frutas = frutaria['uva']\n",
    "    else:\n",
    "        print(\"Opção inválida!\")\n",
    "        return\n",
    "\n",
    "    print(f\"Tipos de fruta disponíveis e seus respectivos preços:\")\n",
    "    for fruta, preco in frutas.items():\n",
    "        print(f\"💲{fruta}: R$ {preco}\")\n",
    "\n",
    "# Programa principal\n",
    "opcao = escolher_opcao()\n",
    "mostrar_frutas(opcao)"
   ]
  }
 ],
 "metadata": {
  "kernelspec": {
   "display_name": "Python 3",
   "language": "python",
   "name": "python3"
  },
  "language_info": {
   "codemirror_mode": {
    "name": "ipython",
    "version": 3
   },
   "file_extension": ".py",
   "mimetype": "text/x-python",
   "name": "python",
   "nbconvert_exporter": "python",
   "pygments_lexer": "ipython3",
   "version": "3.11.8"
  }
 },
 "nbformat": 4,
 "nbformat_minor": 2
}
