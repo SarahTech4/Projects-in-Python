{
 "cells": [
  {
   "cell_type": "markdown",
   "metadata": {},
   "source": [
    "# Aqui colocaremos em prática com mini-projetos em Python! 🐍\n",
    "\n",
    "\n",
    "Em Python, adotar boas práticas é essencial para escrever código legível e eficiente. Organize seu código em módulos claros e coesos, com funções bem definidas para promover a reutilização do código. Utilize classes para encapsular comportamentos relacionados e variáveis significativas, seguindo convenções de nomenclatura. Escolha nomes descritivos para variáveis e valores, e aproveite as bibliotecas padrão e externas sempre que possível para evitar reinventar a roda.\n",
    "\n",
    "• 🔠 **Módulos**\n",
    "• 🐼 **Bibliotecas** \n",
    "• ⚙️ **Funções**\n",
    "• 💻 **Classes** \n",
    "\n",
    "***"
   ]
  },
  {
   "cell_type": "code",
   "execution_count": null,
   "metadata": {},
   "outputs": [],
   "source": [
    "# Criando as classes da nossa árvore ABB\n",
    "# Classe Vértice\n",
    "\n",
    "class Vertice:\n",
    "    def __init__(self, key, dir, esq):\n",
    "        self.item = key\n",
    "        self.dir = dir\n",
    "        self.esq = esq\n",
    "\n",
    "class Arvore:\n",
    "    def __init__(self):\n",
    "        self.raiz= Vertice(None, None, None)\n",
    "        self.raiz= None\n",
    "\n",
    "    def inserir(self, v):\n",
    "        novo = Vertice(v, None, None) #-> cria um novo Nó\n",
    "        if self.raiz == None:\n",
    "            self.raiz = novo\n",
    "        else: #-> se não for a raiz\n",
    "            atual = self.raiz\n",
    "            while True:\n",
    "                anterior = atual\n",
    "                if v <= atual.item: #-> ir para esquerda\n",
    "                    atual = atual.esq\n",
    "                    if atual == None:\n",
    "                        anterior.esq = novo\n",
    "                        return\n",
    "                # fim da condição ir a esquerda\n",
    "                else: #-> ir para direita\n",
    "                    atual = atual.dir\n",
    "                    if atual == None:\n",
    "                        anterior.dir = novo\n",
    "                        return\n",
    "                # fim da condição ir a direita\n",
    "\n",
    "    def inOrder(self, atual):\n",
    "        if atual != None:\n",
    "            self.inOrder(atual.esq)\n",
    "            print(atual.item, end=\" \")\n",
    "            self.inOrder(atual.dir)\n",
    "    def "
   ]
  }
 ],
 "metadata": {
  "language_info": {
   "name": "python"
  }
 },
 "nbformat": 4,
 "nbformat_minor": 2
}
