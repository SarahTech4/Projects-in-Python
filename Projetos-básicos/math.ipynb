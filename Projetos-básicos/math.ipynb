{
 "cells": [
  {
   "cell_type": "markdown",
   "metadata": {},
   "source": [
    "# Aqui colocaremos em prática com mini-projetos em Python! 🐍\n",
    "\n",
    "\n",
    "Em Python, adotar boas práticas é essencial para escrever código legível e eficiente. Organize seu código em módulos claros e coesos, com funções bem definidas para promover a reutilização do código. Utilize classes para encapsular comportamentos relacionados e variáveis significativas, seguindo convenções de nomenclatura. Escolha nomes descritivos para variáveis e valores, e aproveite as bibliotecas padrão e externas sempre que possível para evitar reinventar a roda.\n",
    "\n",
    "• 🔠 **Módulos**\n",
    "• 🐼 **Bibliotecas** \n",
    "• ⚙️ **Funções**\n",
    "• 💻 **Classes** \n",
    "\n",
    "***"
   ]
  },
  {
   "cell_type": "markdown",
   "metadata": {},
   "source": [
    "# math - Funções matemáticas\n",
    "\n",
    "Este módulo fornece acesso às funções matemática definidas pelo padrão C.\n",
    "\n",
    "Suas funções não aceitam números complexos, por isso existe o módulo cmath. Essa distinção evita surpresas.\n",
    "Assim permitindo a detecção antecipada de números complexos e sua origem, melhorando a robustez e a comprenssão do código.\n",
    "\n",
    "\n",
    "\n",
    "Código fonte [Lib/math.py](https://docs.python.org/pt-br/3/library/math.html)\n"
   ]
  },
  {
   "cell_type": "code",
   "execution_count": 6,
   "metadata": {},
   "outputs": [
    {
     "name": "stdout",
     "output_type": "stream",
     "text": [
      "O valor do ângulo:  45.0\n",
      "\n",
      "O ângulo de 45.0 tem o seno de 0.71\n",
      "O ângulo de 45.0 tem o cosseno de 0.71\n",
      "O ângulo de 45.0 tem a tangente de 1.00\n"
     ]
    }
   ],
   "source": [
    "# Com a biblioteca math, é possível fazer muitas operações matemáticas, sendo uma delas calcular o valor do seno, cosseno e \n",
    "#tangente através do valor do ângulo.\n",
    "\n",
    "import math\n",
    "\n",
    "angulo = float(input('Coloque o valor do ângulo: '))\n",
    "print(f'O valor do ângulo: ',angulo)\n",
    "print('')\n",
    "\n",
    "seno = math.sin(math.radians(angulo))\n",
    "print('O ângulo de {} tem o seno de {:.2f}'.format(angulo, seno))\n",
    "\n",
    "cosseno = math.cos(math.radians(angulo))\n",
    "print('O ângulo de {} tem o cosseno de {:.2f}'.format(angulo, cosseno))\n",
    "\n",
    "tangente = math.tan(math.radians(angulo))\n",
    "print('O ângulo de {} tem a tangente de {:.2f}'.format(angulo, tangente))"
   ]
  },
  {
   "cell_type": "code",
   "execution_count": 11,
   "metadata": {},
   "outputs": [
    {
     "name": "stdout",
     "output_type": "stream",
     "text": [
      "O valor do raio da esfera:  5.0\n",
      "O resultado do volume da esfera é: 523.6\n"
     ]
    }
   ],
   "source": [
    "# Vamos calcular o volume de uma esfera\n",
    "\n",
    "raio = float(input('Digite o valor do raio da esfera: '))\n",
    "print(f'O valor do raio da esfera: ', raio)\n",
    "\n",
    "# Vamos criar a nossa fórmula V= 4/3 pi . r^3\n",
    "volume = 4/3 * math.pi * raio**3\n",
    "\n",
    "# Aqui usei round para cortar o valor grande do resultado, coloquei até duas casa decimais\n",
    "print(f'O resultado do volume da esfera é: {round(volume, 2)}')\n"
   ]
  },
  {
   "cell_type": "markdown",
   "metadata": {},
   "source": [
    "# math - Calculando Equações\n",
    "\n",
    "Vamos calcular algumas equações usando dois métodos de solução. Um deles é o método math.sqrt;\n",
    "A função Math.sqrt() retorna a raiz quadrada de um número. \n"
   ]
  },
  {
   "cell_type": "code",
   "execution_count": 7,
   "metadata": {},
   "outputs": [
    {
     "name": "stdout",
     "output_type": "stream",
     "text": [
      "O valores dos coeficiente:  a= 3  b= -2  c= -8\n",
      "O valor de delta é:  100\n",
      "O valor de x1 é:  -1.3333333333333333\n",
      "O valor de x2 é:  2.0\n"
     ]
    }
   ],
   "source": [
    "# Vamos calcular equações de segundo grau:\n",
    "\n",
    "# Nossa fórmula: ax^2+bx+c =0\n",
    "\n",
    "a = int(input('Digite o valor de A: '))\n",
    "b = int(input('Digite o valor de B: '))\n",
    "c = int(input('Digite o valor de C: '))\n",
    "\n",
    "print(f'O valores dos coeficiente: ', 'a=',a, ' b=',b, ' c=',c)\n",
    "\n",
    "# Delta = b^2 - 4a.c\n",
    "\n",
    "delta = b**2 - 4*a*c\n",
    "print('O valor de delta é: ', delta)\n",
    "\n",
    "# x = (-b +- raiz(delta))/2.a\n",
    "x1 = (-b - delta**0.5)/(2*a)\n",
    "x2 = (-b + delta**0.5)/(2*a)\n",
    "\n",
    "print('O valor de x1 é: ', x1)\n",
    "print('O valor de x2 é: ', x2)\n"
   ]
  },
  {
   "cell_type": "code",
   "execution_count": 11,
   "metadata": {},
   "outputs": [
    {
     "name": "stdout",
     "output_type": "stream",
     "text": [
      "Temos como solução duas raízes diferentes:\n",
      "x1 =  -1.3333333333333333\n",
      "x2 =  2.0\n"
     ]
    }
   ],
   "source": [
    "# Agora usando math\n",
    "import math\n",
    "\n",
    "A = int(input('Digite o valor de A: '))\n",
    "B = int(input('Digite o valor de B: '))\n",
    "C = int(input('Digite o valor de C: '))\n",
    "\n",
    "delta = B*B - 4*A*C\n",
    "\n",
    "if (delta < 0):\n",
    "    print('Não tem raízes reais')\n",
    "elif(delta == 0):\n",
    "    x = -B / (2*A)\n",
    "    print('Temos como solução duas raízes iguais no valor de: ', x)\n",
    "else:\n",
    "    X1 = (-B - math.sqrt(delta)) / (2*A)\n",
    "    X2 = (-B + math.sqrt(delta)) / (2*A)\n",
    "    print('Temos como solução duas raízes diferentes:')\n",
    "    print('x1 = ', X1)\n",
    "    print('x2 = ', X2)\n"
   ]
  },
  {
   "cell_type": "code",
   "execution_count": 12,
   "metadata": {},
   "outputs": [
    {
     "name": "stdout",
     "output_type": "stream",
     "text": [
      "O logaritmo natural de 8.0;  é:  2.0794415416798357 \n"
     ]
    }
   ],
   "source": [
    "# Temos um exemplo que calcula o logaritmo de um número inserido pelo usuário \n",
    "# usando math.log\n",
    "\n",
    "import math\n",
    "\n",
    "def main():\n",
    "    numero = float(input('Digite um número postivo: '))\n",
    "\n",
    "    #Verfica se o número é positvo antes de calcular o logartimo\n",
    "    if numero > 0:\n",
    "        resultado = math.log(numero)\n",
    "        print(f'O logaritmo natural de {numero};  é:  {resultado} ')\n",
    "    else:\n",
    "        print('Erro: O número deve ser positivo!')\n",
    "\n",
    "if __name__ == '__main__':\n",
    "    main()"
   ]
  }
 ],
 "metadata": {
  "kernelspec": {
   "display_name": "Python 3",
   "language": "python",
   "name": "python3"
  },
  "language_info": {
   "codemirror_mode": {
    "name": "ipython",
    "version": 3
   },
   "file_extension": ".py",
   "mimetype": "text/x-python",
   "name": "python",
   "nbconvert_exporter": "python",
   "pygments_lexer": "ipython3",
   "version": "3.11.8"
  }
 },
 "nbformat": 4,
 "nbformat_minor": 2
}
