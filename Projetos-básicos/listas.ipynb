{
 "cells": [
  {
   "cell_type": "markdown",
   "metadata": {},
   "source": [
    "# Aqui colocaremos em prática com mini-projetos em Python! 🐍\n",
    "\n",
    "\n",
    "Em Python, adotar boas práticas é essencial para escrever código legível e eficiente. Organize seu código em módulos claros e coesos, com funções bem definidas para promover a reutilização do código. Utilize classes para encapsular comportamentos relacionados e variáveis significativas, seguindo convenções de nomenclatura. Escolha nomes descritivos para variáveis e valores, e aproveite as bibliotecas padrão e externas sempre que possível para evitar reinventar a roda.\n",
    "\n",
    "• 🔠 **Módulos**\n",
    "• 🐼 **Bibliotecas** \n",
    "• ⚙️ **Funções**\n",
    "• 💻 **Classes** \n",
    "\n",
    "***"
   ]
  },
  {
   "cell_type": "markdown",
   "metadata": {},
   "source": [
    "# listas - Como organizar listas em Python e complementá-las "
   ]
  },
  {
   "cell_type": "code",
   "execution_count": null,
   "metadata": {},
   "outputs": [],
   "source": []
  }
 ],
 "metadata": {
  "language_info": {
   "name": "python"
  }
 },
 "nbformat": 4,
 "nbformat_minor": 2
}
