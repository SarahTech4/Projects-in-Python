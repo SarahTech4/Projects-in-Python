{
 "cells": [
  {
   "cell_type": "markdown",
   "metadata": {},
   "source": [
    "# Aqui colocaremos em prática com mini-projetos em Python! 🐍\n",
    "\n",
    "\n",
    "Em Python, adotar boas práticas é essencial para escrever código legível e eficiente. Organize seu código em módulos claros e coesos, com funções bem definidas para promover a reutilização do código. Utilize classes para encapsular comportamentos relacionados e variáveis significativas, seguindo convenções de nomenclatura. Escolha nomes descritivos para variáveis e valores, e aproveite as bibliotecas padrão e externas sempre que possível para evitar reinventar a roda.\n",
    "\n",
    "• 🔠 **Módulos**\n",
    "• 🐼 **Bibliotecas** \n",
    "• ⚙️ **Funções**\n",
    "• 💻 **Classes** \n",
    "\n",
    "***"
   ]
  },
  {
   "cell_type": "markdown",
   "metadata": {},
   "source": [
    "# listas - Estrutura de Dados\n",
    "\n",
    "A documentação do Python explora detalhadamente diferentes estruturas de dados em Python.\n",
    "\n",
    "- Listas: coleção ordenada e mutável de itens.\n",
    "- Tuplas: coleção ordenada e imutável de itens.\n",
    "- Conjuntos: coleção não ordenada de elementos únicos.\n",
    "- Dicionários: coleção não ordenada de pares chave-valor.\n",
    "\n",
    "Além disso, abordaremos operações comuns, métodos disponíveis e exemplos de uso para cada tipo de estrutura de dados mencionada. \n",
    "\n",
    "Essas informações são essenciais para programadores que desejam aprender a trabalhar com eficiência com dados em Python.\n",
    "\n",
    "Documentação fonte [DataStrutures.py](https://docs.python.org/pt-br/3/tutorial/datastructures.html)"
   ]
  },
  {
   "cell_type": "code",
   "execution_count": 3,
   "metadata": {},
   "outputs": [
    {
     "name": "stdout",
     "output_type": "stream",
     "text": [
      "Lista com nomes: ['banana', 'laranja', 'uva']\n",
      "Lista de números: [1, 2, 3]\n"
     ]
    }
   ],
   "source": [
    "# Para criar uma lista, basta nomear sua lista e colocar os elementos\n",
    "# dentro dela. Segue um exemplo simples abaixo:\n",
    "\n",
    "lista_Frutas = ['banana','laranja','uva']\n",
    "lista_Numeros = [1, 2, 3]\n",
    "\n",
    "print(f'Lista com nomes: {lista_Frutas}')\n",
    "print(f'Lista de números: {lista_Numeros}')\n",
    "\n"
   ]
  },
  {
   "cell_type": "code",
   "execution_count": 22,
   "metadata": {},
   "outputs": [
    {
     "name": "stdout",
     "output_type": "stream",
     "text": [
      "A lista.append após a inserção do item: [1, 2, 3, 4, 5, 5]              |\n",
      "|-----------------------------------------------------------------------|\n",
      "A lista.extend após a inserção do item: [1, 2, 3, 4, 5, 6, 7, 8, 9, 10] |\n",
      "|-----------------------------------------------------------------------|\n",
      "A lista.insert após a inserção do item: [0, 1, 2, 3, 4, 5]              |\n",
      "|-----------------------------------------------------------------------|\n"
     ]
    }
   ],
   "source": [
    "# Já ouviu falar de alguns comandos para manipular a nossa lista? \n",
    "# Aqui eu mostrarei comandos básicos para melhor manipulação da sua lista.\n",
    "\n",
    "# Comandos para a inserção elementos da sua lista:\n",
    "# .append() -> adiciona o item ao final da lista;\n",
    "# .extend([]) -> adiciona vários itens ao final da lista;\n",
    "# .insert() -> insere um item em qualquer posição da lista;\n",
    "\n",
    "# vamos usar lista.append()\n",
    "lista_exemple = [1, 2, 3, 4, 5]\n",
    "lista_exemple.append(5)\n",
    "print(f'A lista.append após a inserção do item: {lista_exemple}              |')\n",
    "print(f'|-----------------------------------------------------------------------|')\n",
    "\n",
    "# vamos usar lista.extend()\n",
    "lista_exemple = [1, 2, 3, 4, 5]\n",
    "lista_exemple.extend([6, 7, 8, 9, 10])\n",
    "print(f'A lista.extend após a inserção do item: {lista_exemple} |')\n",
    "print(f'|-----------------------------------------------------------------------|')\n",
    "\n",
    "# vamos usar lista.insert()\n",
    "lista_exemple = [1, 2, 3, 4, 5]\n",
    "lista_exemple.insert(0, 0)\n",
    "print(f'A lista.insert após a inserção do item: {lista_exemple}              |')\n",
    "print(f'|-----------------------------------------------------------------------|')\n",
    "\n",
    "\n"
   ]
  },
  {
   "cell_type": "code",
   "execution_count": 19,
   "metadata": {},
   "outputs": [
    {
     "name": "stdout",
     "output_type": "stream",
     "text": [
      "|A lista.pop após a remoção do item: [1, 2, 3, 4]                       |\n",
      "|-----------------------------------------------------------------------|\n",
      "|A lista.remove após a remoção do item: [2, 3, 4, 5]                    |\n",
      "|-----------------------------------------------------------------------|\n"
     ]
    }
   ],
   "source": [
    "# Vamos mostrar mais alguns comandos para manipular a nossa lista.\n",
    "# Aqui eu mostrarei comandos básicos para melhor manipulação da sua lista.\n",
    "\n",
    "# Comandos para a remoção de elementos da sua lista:\n",
    "# .pop() -> \n",
    "# .remove() -> retira da lista o primeiro elemento;\n",
    "\n",
    "\n",
    "# vamos usar lista.pop()\n",
    "lista_exemple = [1, 2, 3, 4, 5]\n",
    "lista_exemple.pop()\n",
    "print(f'|A lista.pop após a remoção do item: {lista_exemple}                       |')\n",
    "print(f'|-----------------------------------------------------------------------|')\n",
    "\n",
    "# vamos usar lista.remove()\n",
    "lista_exemple = [1, 2, 3, 4, 5]\n",
    "lista_exemple.remove(1)\n",
    "print(f'|A lista.remove após a remoção do item: {lista_exemple}                    |')\n",
    "print(f'|-----------------------------------------------------------------------|')\n",
    "\n",
    "# Aqui foram\n",
    "\n",
    "\n"
   ]
  },
  {
   "cell_type": "markdown",
   "metadata": {},
   "source": [
    "Aqui temos um pequeno exercício onde criamos uma lista com range, onde o programa solicitará ao usuário que insira 10 números inteiros para formar a lista e, em seguida, solicitará outro número para verificar se está presente na lista."
   ]
  },
  {
   "cell_type": "code",
   "execution_count": 4,
   "metadata": {},
   "outputs": [
    {
     "name": "stdout",
     "output_type": "stream",
     "text": [
      "Os números escolhidos para lista:  [1, 2, 3, 4, 5, 6, 7, 8, 9, 10]\n",
      "O número 10 está na lista.\n"
     ]
    }
   ],
   "source": [
    "# Lista de Números inteiros e tudo mais\n",
    "def main():\n",
    "    lista = []\n",
    "    for i in range(10):\n",
    "        num = int(input('Digite um número inteiro: '))\n",
    "        lista.append(num)\n",
    "\n",
    "# Solicita um número ao usuário.\n",
    "    numero = int(input('Digite um número para verificar se está na lista: '))\n",
    "\n",
    "    print(f'Os números escolhidos para lista: ', lista)\n",
    "\n",
    "\n",
    "# Aqui ele vai verificar se o número está na lista ou não.\n",
    "    if numero in lista:\n",
    "        print(f'O número {numero} está na lista.')\n",
    "    \n",
    "    else:\n",
    "        print(f'O número {numero} não está na lista.')\n",
    "\n",
    "if __name__=='__main__':\n",
    "    main()\n"
   ]
  }
 ],
 "metadata": {
  "kernelspec": {
   "display_name": "Python 3",
   "language": "python",
   "name": "python3"
  },
  "language_info": {
   "codemirror_mode": {
    "name": "ipython",
    "version": 3
   },
   "file_extension": ".py",
   "mimetype": "text/x-python",
   "name": "python",
   "nbconvert_exporter": "python",
   "pygments_lexer": "ipython3",
   "version": "3.11.8"
  }
 },
 "nbformat": 4,
 "nbformat_minor": 2
}
