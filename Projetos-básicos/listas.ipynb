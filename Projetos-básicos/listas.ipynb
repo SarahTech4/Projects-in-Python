{
 "cells": [
  {
   "cell_type": "markdown",
   "metadata": {},
   "source": [
    "# Aqui colocaremos em prática com mini-projetos em Python! 🐍\n",
    "\n",
    "\n",
    "Em Python, adotar boas práticas é essencial para escrever código legível e eficiente. Organize seu código em módulos claros e coesos, com funções bem definidas para promover a reutilização do código. Utilize classes para encapsular comportamentos relacionados e variáveis significativas, seguindo convenções de nomenclatura. Escolha nomes descritivos para variáveis e valores, e aproveite as bibliotecas padrão e externas sempre que possível para evitar reinventar a roda.\n",
    "\n",
    "• 🔠 **Módulos**\n",
    "• 🐼 **Bibliotecas** \n",
    "• ⚙️ **Funções**\n",
    "• 💻 **Classes** \n",
    "\n",
    "***"
   ]
  },
  {
   "cell_type": "markdown",
   "metadata": {},
   "source": [
    "# listas - Estrutura de Dados\n",
    "\n",
    "A documentação do Python explora detalhadamente diferentes estruturas de dados em Python.\n",
    "\n",
    "- Listas: coleção ordenada e mutável de itens.\n",
    "- Tuplas: coleção ordenada e imutável de itens.\n",
    "- Conjuntos: coleção não ordenada de elementos únicos.\n",
    "- Dicionários: coleção não ordenada de pares chave-valor.\n",
    "\n",
    "Além disso, abordaremos operações comuns, métodos disponíveis e exemplos de uso para cada tipo de estrutura de dados mencionada. \n",
    "\n",
    "Essas informações são essenciais para programadores que desejam aprender a trabalhar com eficiência com dados em Python.\n",
    "\n",
    "Documentação fonte [DataStrutures.py](https://docs.python.org/pt-br/3/tutorial/datastructures.html)"
   ]
  },
  {
   "cell_type": "code",
   "execution_count": null,
   "metadata": {},
   "outputs": [],
   "source": [
    "lista = [1, 2, 3]\n",
    "\n",
    "print(lista)"
   ]
  }
 ],
 "metadata": {
  "language_info": {
   "name": "python"
  }
 },
 "nbformat": 4,
 "nbformat_minor": 2
}
