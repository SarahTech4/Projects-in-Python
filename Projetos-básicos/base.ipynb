{
 "cells": [
  {
   "cell_type": "markdown",
   "metadata": {},
   "source": [
    "# Aqui colocaremos em prática com mini-projetos em Python! 🐍\n",
    "\n",
    "\n",
    "Em Python, adotar boas práticas é essencial para escrever código legível e eficiente. Organize seu código em módulos claros e coesos, com funções bem definidas para promover a reutilização do código. Utilize classes para encapsular comportamentos relacionados e variáveis significativas, seguindo convenções de nomenclatura. Escolha nomes descritivos para variáveis e valores, e aproveite as bibliotecas padrão e externas sempre que possível para evitar reinventar a roda.\n",
    "\n",
    "• 🔠 **Módulos**\n",
    "• 🐼 **Bibliotecas** \n",
    "• ⚙️ **Funções**\n",
    "• 💻 **Classes** "
   ]
  },
  {
   "cell_type": "markdown",
   "metadata": {},
   "source": [
    "# random - Gera números pseudoaleatórios\n",
    "\n",
    "Este módulo implementa geradores de números pseudoaleatórios para várias distribuições.\n",
    "\n",
    "Para números inteiros, há uma seleção uniforme de um intervalo. Para sequências, há uma seleção uniforme de um elemento aleatório, uma função para gerar uma permutação aleatória de uma lista internamanete e uma função para amostragem aleatória sem substituição.\n",
    "\n",
    "Código fonte [Lib/random.py](https://github.com/python/cpython/tree/3.12/Lib/random.py)\n"
   ]
  },
  {
   "cell_type": "code",
   "execution_count": 11,
   "metadata": {},
   "outputs": [
    {
     "name": "stdout",
     "output_type": "stream",
     "text": [
      "Desculpe, tente novamente! Está muito baixo\n",
      "Desculpe, tente novamente! Está muito baixo\n",
      "Desculpe, tente novamente! Está muito baixo\n",
      "Desculpe, tente novamente! Está muito alto\n",
      "Desculpe, tente novamente! Está muito baixo\n",
      "Desculpe, tente novamente! Está muito baixo\n",
      "Desculpe, tente novamente! Está muito baixo\n",
      "Desculpe, tente novamente! Está muito baixo\n",
      "Desculpe, tente novamente! Está muito baixo\n",
      "Boaa, parabéns. Você conseguiu adivinhar o número secreto 23 correto!!\n"
     ]
    }
   ],
   "source": [
    "# Aqui vamos importar o RANDOM \n",
    "import random  \n",
    "\n",
    "def adivinha(x): \n",
    "\n",
    "# Vamos chamar a função (random), para retornar o elemento 'adivinha' aleatório da sequência não vazia.\n",
    "    randomNumber = random.randint(1, x) \n",
    "    adivinha = 0\n",
    "\n",
    "# Chamamos o While para dar o início do loop de adivinhação\n",
    "    while adivinha != randomNumber:\n",
    "        adivinha = int(input(f'Adivinha um número entre 1 e {x}: '))\n",
    "\n",
    "        # Se o nosso elemento estiver com um valor baixo, retornará a seguinte mensagem:\n",
    "        if adivinha < randomNumber:\n",
    "            print('Desculpe, tente novamente! Está muito baixo')\n",
    "        # Caso o nosso elemento estiver com um valor alto, retornará a seguinte mensagem:\n",
    "        elif adivinha > randomNumber:\n",
    "            print('Desculpe, tente novamente! Está muito alto')\n",
    "\n",
    "# Aqui sairá após conseguir adivinhar o número!\n",
    "    print(f'Boaa, parabéns. Você conseguiu adivinhar o número secreto {randomNumber} correto!!')\n",
    "\n",
    "adivinha(25)"
   ]
  }
 ],
 "metadata": {
  "kernelspec": {
   "display_name": "Python 3",
   "language": "python",
   "name": "python3"
  },
  "language_info": {
   "codemirror_mode": {
    "name": "ipython",
    "version": 3
   },
   "file_extension": ".py",
   "mimetype": "text/x-python",
   "name": "python",
   "nbconvert_exporter": "python",
   "pygments_lexer": "ipython3",
   "version": "3.11.8"
  }
 },
 "nbformat": 4,
 "nbformat_minor": 2
}
